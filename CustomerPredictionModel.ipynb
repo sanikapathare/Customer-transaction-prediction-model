{
 "cells": [
  {
   "cell_type": "markdown",
   "id": "6976e613",
   "metadata": {},
   "source": [
    "\n",
    "### Problem Statement\n",
    "1. **Objective:** Predict which customers will make a transaction in the future (target column: `1` for will transact, `0` for won't transact).\n",
    "2. **Dataset:** Includes 200 anonymized features, an `ID_code` column, and a `target` column.\n",
    "\n",
    "### Tasks\n",
    "1. **Data Analysis Report:** Analyze the dataset and provide insights.\n",
    "2. **Predictive Model:** Build and compare models to predict customer transactions.\n",
    "   - Deliver a report on the performance of multiple models.\n",
    "   - Recommend the best model for production.\n",
    "3. **Challenges Report:** Document challenges encountered and methods/techniques used to address them."
   ]
  },
  {
   "cell_type": "code",
   "execution_count": 1,
   "id": "b3bf4965",
   "metadata": {},
   "outputs": [],
   "source": [
    "import pandas as pd\n",
    "import numpy as np\n",
    "from sklearn.model_selection import train_test_split\n",
    "import matplotlib.pyplot as plt\n",
    "import seaborn as sns"
   ]
  },
  {
   "cell_type": "code",
   "execution_count": 2,
   "id": "5d37535c",
   "metadata": {},
   "outputs": [],
   "source": [
    "data = pd.read_csv('train(1).csv')"
   ]
  },
  {
   "cell_type": "code",
   "execution_count": 3,
   "id": "d4ce53e9",
   "metadata": {},
   "outputs": [
    {
     "data": {
      "text/html": [
       "<div>\n",
       "<style scoped>\n",
       "    .dataframe tbody tr th:only-of-type {\n",
       "        vertical-align: middle;\n",
       "    }\n",
       "\n",
       "    .dataframe tbody tr th {\n",
       "        vertical-align: top;\n",
       "    }\n",
       "\n",
       "    .dataframe thead th {\n",
       "        text-align: right;\n",
       "    }\n",
       "</style>\n",
       "<table border=\"1\" class=\"dataframe\">\n",
       "  <thead>\n",
       "    <tr style=\"text-align: right;\">\n",
       "      <th></th>\n",
       "      <th>ID_code</th>\n",
       "      <th>target</th>\n",
       "      <th>var_0</th>\n",
       "      <th>var_1</th>\n",
       "      <th>var_2</th>\n",
       "      <th>var_3</th>\n",
       "      <th>var_4</th>\n",
       "      <th>var_5</th>\n",
       "      <th>var_6</th>\n",
       "      <th>var_7</th>\n",
       "      <th>...</th>\n",
       "      <th>var_190</th>\n",
       "      <th>var_191</th>\n",
       "      <th>var_192</th>\n",
       "      <th>var_193</th>\n",
       "      <th>var_194</th>\n",
       "      <th>var_195</th>\n",
       "      <th>var_196</th>\n",
       "      <th>var_197</th>\n",
       "      <th>var_198</th>\n",
       "      <th>var_199</th>\n",
       "    </tr>\n",
       "  </thead>\n",
       "  <tbody>\n",
       "    <tr>\n",
       "      <th>0</th>\n",
       "      <td>train_0</td>\n",
       "      <td>0</td>\n",
       "      <td>8.9255</td>\n",
       "      <td>-6.7863</td>\n",
       "      <td>11.9081</td>\n",
       "      <td>5.0930</td>\n",
       "      <td>11.4607</td>\n",
       "      <td>-9.2834</td>\n",
       "      <td>5.1187</td>\n",
       "      <td>18.6266</td>\n",
       "      <td>...</td>\n",
       "      <td>4.4354</td>\n",
       "      <td>3.9642</td>\n",
       "      <td>3.1364</td>\n",
       "      <td>1.6910</td>\n",
       "      <td>18.5227</td>\n",
       "      <td>-2.3978</td>\n",
       "      <td>7.8784</td>\n",
       "      <td>8.5635</td>\n",
       "      <td>12.7803</td>\n",
       "      <td>-1.0914</td>\n",
       "    </tr>\n",
       "    <tr>\n",
       "      <th>1</th>\n",
       "      <td>train_1</td>\n",
       "      <td>0</td>\n",
       "      <td>11.5006</td>\n",
       "      <td>-4.1473</td>\n",
       "      <td>13.8588</td>\n",
       "      <td>5.3890</td>\n",
       "      <td>12.3622</td>\n",
       "      <td>7.0433</td>\n",
       "      <td>5.6208</td>\n",
       "      <td>16.5338</td>\n",
       "      <td>...</td>\n",
       "      <td>7.6421</td>\n",
       "      <td>7.7214</td>\n",
       "      <td>2.5837</td>\n",
       "      <td>10.9516</td>\n",
       "      <td>15.4305</td>\n",
       "      <td>2.0339</td>\n",
       "      <td>8.1267</td>\n",
       "      <td>8.7889</td>\n",
       "      <td>18.3560</td>\n",
       "      <td>1.9518</td>\n",
       "    </tr>\n",
       "    <tr>\n",
       "      <th>2</th>\n",
       "      <td>train_2</td>\n",
       "      <td>0</td>\n",
       "      <td>8.6093</td>\n",
       "      <td>-2.7457</td>\n",
       "      <td>12.0805</td>\n",
       "      <td>7.8928</td>\n",
       "      <td>10.5825</td>\n",
       "      <td>-9.0837</td>\n",
       "      <td>6.9427</td>\n",
       "      <td>14.6155</td>\n",
       "      <td>...</td>\n",
       "      <td>2.9057</td>\n",
       "      <td>9.7905</td>\n",
       "      <td>1.6704</td>\n",
       "      <td>1.6858</td>\n",
       "      <td>21.6042</td>\n",
       "      <td>3.1417</td>\n",
       "      <td>-6.5213</td>\n",
       "      <td>8.2675</td>\n",
       "      <td>14.7222</td>\n",
       "      <td>0.3965</td>\n",
       "    </tr>\n",
       "    <tr>\n",
       "      <th>3</th>\n",
       "      <td>train_3</td>\n",
       "      <td>0</td>\n",
       "      <td>11.0604</td>\n",
       "      <td>-2.1518</td>\n",
       "      <td>8.9522</td>\n",
       "      <td>7.1957</td>\n",
       "      <td>12.5846</td>\n",
       "      <td>-1.8361</td>\n",
       "      <td>5.8428</td>\n",
       "      <td>14.9250</td>\n",
       "      <td>...</td>\n",
       "      <td>4.4666</td>\n",
       "      <td>4.7433</td>\n",
       "      <td>0.7178</td>\n",
       "      <td>1.4214</td>\n",
       "      <td>23.0347</td>\n",
       "      <td>-1.2706</td>\n",
       "      <td>-2.9275</td>\n",
       "      <td>10.2922</td>\n",
       "      <td>17.9697</td>\n",
       "      <td>-8.9996</td>\n",
       "    </tr>\n",
       "    <tr>\n",
       "      <th>4</th>\n",
       "      <td>train_4</td>\n",
       "      <td>0</td>\n",
       "      <td>9.8369</td>\n",
       "      <td>-1.4834</td>\n",
       "      <td>12.8746</td>\n",
       "      <td>6.6375</td>\n",
       "      <td>12.2772</td>\n",
       "      <td>2.4486</td>\n",
       "      <td>5.9405</td>\n",
       "      <td>19.2514</td>\n",
       "      <td>...</td>\n",
       "      <td>-1.4905</td>\n",
       "      <td>9.5214</td>\n",
       "      <td>-0.1508</td>\n",
       "      <td>9.1942</td>\n",
       "      <td>13.2876</td>\n",
       "      <td>-1.5121</td>\n",
       "      <td>3.9267</td>\n",
       "      <td>9.5031</td>\n",
       "      <td>17.9974</td>\n",
       "      <td>-8.8104</td>\n",
       "    </tr>\n",
       "  </tbody>\n",
       "</table>\n",
       "<p>5 rows × 202 columns</p>\n",
       "</div>"
      ],
      "text/plain": [
       "   ID_code  target    var_0   var_1    var_2   var_3    var_4   var_5   var_6  \\\n",
       "0  train_0       0   8.9255 -6.7863  11.9081  5.0930  11.4607 -9.2834  5.1187   \n",
       "1  train_1       0  11.5006 -4.1473  13.8588  5.3890  12.3622  7.0433  5.6208   \n",
       "2  train_2       0   8.6093 -2.7457  12.0805  7.8928  10.5825 -9.0837  6.9427   \n",
       "3  train_3       0  11.0604 -2.1518   8.9522  7.1957  12.5846 -1.8361  5.8428   \n",
       "4  train_4       0   9.8369 -1.4834  12.8746  6.6375  12.2772  2.4486  5.9405   \n",
       "\n",
       "     var_7  ...  var_190  var_191  var_192  var_193  var_194  var_195  \\\n",
       "0  18.6266  ...   4.4354   3.9642   3.1364   1.6910  18.5227  -2.3978   \n",
       "1  16.5338  ...   7.6421   7.7214   2.5837  10.9516  15.4305   2.0339   \n",
       "2  14.6155  ...   2.9057   9.7905   1.6704   1.6858  21.6042   3.1417   \n",
       "3  14.9250  ...   4.4666   4.7433   0.7178   1.4214  23.0347  -1.2706   \n",
       "4  19.2514  ...  -1.4905   9.5214  -0.1508   9.1942  13.2876  -1.5121   \n",
       "\n",
       "   var_196  var_197  var_198  var_199  \n",
       "0   7.8784   8.5635  12.7803  -1.0914  \n",
       "1   8.1267   8.7889  18.3560   1.9518  \n",
       "2  -6.5213   8.2675  14.7222   0.3965  \n",
       "3  -2.9275  10.2922  17.9697  -8.9996  \n",
       "4   3.9267   9.5031  17.9974  -8.8104  \n",
       "\n",
       "[5 rows x 202 columns]"
      ]
     },
     "execution_count": 3,
     "metadata": {},
     "output_type": "execute_result"
    }
   ],
   "source": [
    "data.head()"
   ]
  },
  {
   "cell_type": "code",
   "execution_count": 4,
   "id": "de576c63",
   "metadata": {},
   "outputs": [
    {
     "name": "stdout",
     "output_type": "stream",
     "text": [
      "<class 'pandas.core.frame.DataFrame'>\n",
      "RangeIndex: 200000 entries, 0 to 199999\n",
      "Columns: 202 entries, ID_code to var_199\n",
      "dtypes: float64(200), int64(1), object(1)\n",
      "memory usage: 308.2+ MB\n"
     ]
    }
   ],
   "source": [
    "data.info()"
   ]
  },
  {
   "cell_type": "code",
   "execution_count": 5,
   "id": "31f21735",
   "metadata": {},
   "outputs": [
    {
     "data": {
      "text/html": [
       "<div>\n",
       "<style scoped>\n",
       "    .dataframe tbody tr th:only-of-type {\n",
       "        vertical-align: middle;\n",
       "    }\n",
       "\n",
       "    .dataframe tbody tr th {\n",
       "        vertical-align: top;\n",
       "    }\n",
       "\n",
       "    .dataframe thead th {\n",
       "        text-align: right;\n",
       "    }\n",
       "</style>\n",
       "<table border=\"1\" class=\"dataframe\">\n",
       "  <thead>\n",
       "    <tr style=\"text-align: right;\">\n",
       "      <th></th>\n",
       "      <th>target</th>\n",
       "      <th>var_0</th>\n",
       "      <th>var_1</th>\n",
       "      <th>var_2</th>\n",
       "      <th>var_3</th>\n",
       "      <th>var_4</th>\n",
       "      <th>var_5</th>\n",
       "      <th>var_6</th>\n",
       "      <th>var_7</th>\n",
       "      <th>var_8</th>\n",
       "      <th>...</th>\n",
       "      <th>var_190</th>\n",
       "      <th>var_191</th>\n",
       "      <th>var_192</th>\n",
       "      <th>var_193</th>\n",
       "      <th>var_194</th>\n",
       "      <th>var_195</th>\n",
       "      <th>var_196</th>\n",
       "      <th>var_197</th>\n",
       "      <th>var_198</th>\n",
       "      <th>var_199</th>\n",
       "    </tr>\n",
       "  </thead>\n",
       "  <tbody>\n",
       "    <tr>\n",
       "      <th>count</th>\n",
       "      <td>200000.000000</td>\n",
       "      <td>200000.000000</td>\n",
       "      <td>200000.000000</td>\n",
       "      <td>200000.000000</td>\n",
       "      <td>200000.000000</td>\n",
       "      <td>200000.000000</td>\n",
       "      <td>200000.000000</td>\n",
       "      <td>200000.000000</td>\n",
       "      <td>200000.000000</td>\n",
       "      <td>200000.000000</td>\n",
       "      <td>...</td>\n",
       "      <td>200000.000000</td>\n",
       "      <td>200000.000000</td>\n",
       "      <td>200000.000000</td>\n",
       "      <td>200000.000000</td>\n",
       "      <td>200000.000000</td>\n",
       "      <td>200000.000000</td>\n",
       "      <td>200000.000000</td>\n",
       "      <td>200000.000000</td>\n",
       "      <td>200000.000000</td>\n",
       "      <td>200000.000000</td>\n",
       "    </tr>\n",
       "    <tr>\n",
       "      <th>mean</th>\n",
       "      <td>0.100490</td>\n",
       "      <td>10.679914</td>\n",
       "      <td>-1.627622</td>\n",
       "      <td>10.715192</td>\n",
       "      <td>6.796529</td>\n",
       "      <td>11.078333</td>\n",
       "      <td>-5.065317</td>\n",
       "      <td>5.408949</td>\n",
       "      <td>16.545850</td>\n",
       "      <td>0.284162</td>\n",
       "      <td>...</td>\n",
       "      <td>3.234440</td>\n",
       "      <td>7.438408</td>\n",
       "      <td>1.927839</td>\n",
       "      <td>3.331774</td>\n",
       "      <td>17.993784</td>\n",
       "      <td>-0.142088</td>\n",
       "      <td>2.303335</td>\n",
       "      <td>8.908158</td>\n",
       "      <td>15.870720</td>\n",
       "      <td>-3.326537</td>\n",
       "    </tr>\n",
       "    <tr>\n",
       "      <th>std</th>\n",
       "      <td>0.300653</td>\n",
       "      <td>3.040051</td>\n",
       "      <td>4.050044</td>\n",
       "      <td>2.640894</td>\n",
       "      <td>2.043319</td>\n",
       "      <td>1.623150</td>\n",
       "      <td>7.863267</td>\n",
       "      <td>0.866607</td>\n",
       "      <td>3.418076</td>\n",
       "      <td>3.332634</td>\n",
       "      <td>...</td>\n",
       "      <td>4.559922</td>\n",
       "      <td>3.023272</td>\n",
       "      <td>1.478423</td>\n",
       "      <td>3.992030</td>\n",
       "      <td>3.135162</td>\n",
       "      <td>1.429372</td>\n",
       "      <td>5.454369</td>\n",
       "      <td>0.921625</td>\n",
       "      <td>3.010945</td>\n",
       "      <td>10.438015</td>\n",
       "    </tr>\n",
       "    <tr>\n",
       "      <th>min</th>\n",
       "      <td>0.000000</td>\n",
       "      <td>0.408400</td>\n",
       "      <td>-15.043400</td>\n",
       "      <td>2.117100</td>\n",
       "      <td>-0.040200</td>\n",
       "      <td>5.074800</td>\n",
       "      <td>-32.562600</td>\n",
       "      <td>2.347300</td>\n",
       "      <td>5.349700</td>\n",
       "      <td>-10.505500</td>\n",
       "      <td>...</td>\n",
       "      <td>-14.093300</td>\n",
       "      <td>-2.691700</td>\n",
       "      <td>-3.814500</td>\n",
       "      <td>-11.783400</td>\n",
       "      <td>8.694400</td>\n",
       "      <td>-5.261000</td>\n",
       "      <td>-14.209600</td>\n",
       "      <td>5.960600</td>\n",
       "      <td>6.299300</td>\n",
       "      <td>-38.852800</td>\n",
       "    </tr>\n",
       "    <tr>\n",
       "      <th>25%</th>\n",
       "      <td>0.000000</td>\n",
       "      <td>8.453850</td>\n",
       "      <td>-4.740025</td>\n",
       "      <td>8.722475</td>\n",
       "      <td>5.254075</td>\n",
       "      <td>9.883175</td>\n",
       "      <td>-11.200350</td>\n",
       "      <td>4.767700</td>\n",
       "      <td>13.943800</td>\n",
       "      <td>-2.317800</td>\n",
       "      <td>...</td>\n",
       "      <td>-0.058825</td>\n",
       "      <td>5.157400</td>\n",
       "      <td>0.889775</td>\n",
       "      <td>0.584600</td>\n",
       "      <td>15.629800</td>\n",
       "      <td>-1.170700</td>\n",
       "      <td>-1.946925</td>\n",
       "      <td>8.252800</td>\n",
       "      <td>13.829700</td>\n",
       "      <td>-11.208475</td>\n",
       "    </tr>\n",
       "    <tr>\n",
       "      <th>50%</th>\n",
       "      <td>0.000000</td>\n",
       "      <td>10.524750</td>\n",
       "      <td>-1.608050</td>\n",
       "      <td>10.580000</td>\n",
       "      <td>6.825000</td>\n",
       "      <td>11.108250</td>\n",
       "      <td>-4.833150</td>\n",
       "      <td>5.385100</td>\n",
       "      <td>16.456800</td>\n",
       "      <td>0.393700</td>\n",
       "      <td>...</td>\n",
       "      <td>3.203600</td>\n",
       "      <td>7.347750</td>\n",
       "      <td>1.901300</td>\n",
       "      <td>3.396350</td>\n",
       "      <td>17.957950</td>\n",
       "      <td>-0.172700</td>\n",
       "      <td>2.408900</td>\n",
       "      <td>8.888200</td>\n",
       "      <td>15.934050</td>\n",
       "      <td>-2.819550</td>\n",
       "    </tr>\n",
       "    <tr>\n",
       "      <th>75%</th>\n",
       "      <td>0.000000</td>\n",
       "      <td>12.758200</td>\n",
       "      <td>1.358625</td>\n",
       "      <td>12.516700</td>\n",
       "      <td>8.324100</td>\n",
       "      <td>12.261125</td>\n",
       "      <td>0.924800</td>\n",
       "      <td>6.003000</td>\n",
       "      <td>19.102900</td>\n",
       "      <td>2.937900</td>\n",
       "      <td>...</td>\n",
       "      <td>6.406200</td>\n",
       "      <td>9.512525</td>\n",
       "      <td>2.949500</td>\n",
       "      <td>6.205800</td>\n",
       "      <td>20.396525</td>\n",
       "      <td>0.829600</td>\n",
       "      <td>6.556725</td>\n",
       "      <td>9.593300</td>\n",
       "      <td>18.064725</td>\n",
       "      <td>4.836800</td>\n",
       "    </tr>\n",
       "    <tr>\n",
       "      <th>max</th>\n",
       "      <td>1.000000</td>\n",
       "      <td>20.315000</td>\n",
       "      <td>10.376800</td>\n",
       "      <td>19.353000</td>\n",
       "      <td>13.188300</td>\n",
       "      <td>16.671400</td>\n",
       "      <td>17.251600</td>\n",
       "      <td>8.447700</td>\n",
       "      <td>27.691800</td>\n",
       "      <td>10.151300</td>\n",
       "      <td>...</td>\n",
       "      <td>18.440900</td>\n",
       "      <td>16.716500</td>\n",
       "      <td>8.402400</td>\n",
       "      <td>18.281800</td>\n",
       "      <td>27.928800</td>\n",
       "      <td>4.272900</td>\n",
       "      <td>18.321500</td>\n",
       "      <td>12.000400</td>\n",
       "      <td>26.079100</td>\n",
       "      <td>28.500700</td>\n",
       "    </tr>\n",
       "  </tbody>\n",
       "</table>\n",
       "<p>8 rows × 201 columns</p>\n",
       "</div>"
      ],
      "text/plain": [
       "              target          var_0          var_1          var_2  \\\n",
       "count  200000.000000  200000.000000  200000.000000  200000.000000   \n",
       "mean        0.100490      10.679914      -1.627622      10.715192   \n",
       "std         0.300653       3.040051       4.050044       2.640894   \n",
       "min         0.000000       0.408400     -15.043400       2.117100   \n",
       "25%         0.000000       8.453850      -4.740025       8.722475   \n",
       "50%         0.000000      10.524750      -1.608050      10.580000   \n",
       "75%         0.000000      12.758200       1.358625      12.516700   \n",
       "max         1.000000      20.315000      10.376800      19.353000   \n",
       "\n",
       "               var_3          var_4          var_5          var_6  \\\n",
       "count  200000.000000  200000.000000  200000.000000  200000.000000   \n",
       "mean        6.796529      11.078333      -5.065317       5.408949   \n",
       "std         2.043319       1.623150       7.863267       0.866607   \n",
       "min        -0.040200       5.074800     -32.562600       2.347300   \n",
       "25%         5.254075       9.883175     -11.200350       4.767700   \n",
       "50%         6.825000      11.108250      -4.833150       5.385100   \n",
       "75%         8.324100      12.261125       0.924800       6.003000   \n",
       "max        13.188300      16.671400      17.251600       8.447700   \n",
       "\n",
       "               var_7          var_8  ...        var_190        var_191  \\\n",
       "count  200000.000000  200000.000000  ...  200000.000000  200000.000000   \n",
       "mean       16.545850       0.284162  ...       3.234440       7.438408   \n",
       "std         3.418076       3.332634  ...       4.559922       3.023272   \n",
       "min         5.349700     -10.505500  ...     -14.093300      -2.691700   \n",
       "25%        13.943800      -2.317800  ...      -0.058825       5.157400   \n",
       "50%        16.456800       0.393700  ...       3.203600       7.347750   \n",
       "75%        19.102900       2.937900  ...       6.406200       9.512525   \n",
       "max        27.691800      10.151300  ...      18.440900      16.716500   \n",
       "\n",
       "             var_192        var_193        var_194        var_195  \\\n",
       "count  200000.000000  200000.000000  200000.000000  200000.000000   \n",
       "mean        1.927839       3.331774      17.993784      -0.142088   \n",
       "std         1.478423       3.992030       3.135162       1.429372   \n",
       "min        -3.814500     -11.783400       8.694400      -5.261000   \n",
       "25%         0.889775       0.584600      15.629800      -1.170700   \n",
       "50%         1.901300       3.396350      17.957950      -0.172700   \n",
       "75%         2.949500       6.205800      20.396525       0.829600   \n",
       "max         8.402400      18.281800      27.928800       4.272900   \n",
       "\n",
       "             var_196        var_197        var_198        var_199  \n",
       "count  200000.000000  200000.000000  200000.000000  200000.000000  \n",
       "mean        2.303335       8.908158      15.870720      -3.326537  \n",
       "std         5.454369       0.921625       3.010945      10.438015  \n",
       "min       -14.209600       5.960600       6.299300     -38.852800  \n",
       "25%        -1.946925       8.252800      13.829700     -11.208475  \n",
       "50%         2.408900       8.888200      15.934050      -2.819550  \n",
       "75%         6.556725       9.593300      18.064725       4.836800  \n",
       "max        18.321500      12.000400      26.079100      28.500700  \n",
       "\n",
       "[8 rows x 201 columns]"
      ]
     },
     "execution_count": 5,
     "metadata": {},
     "output_type": "execute_result"
    }
   ],
   "source": [
    "data.describe()"
   ]
  },
  {
   "cell_type": "code",
   "execution_count": 6,
   "id": "922a40f7",
   "metadata": {},
   "outputs": [
    {
     "data": {
      "image/png": "[encoded data removed]",
      "text/plain": [
       "<Figure size 640x480 with 1 Axes>"
      ]
     },
     "metadata": {},
     "output_type": "display_data"
    }
   ],
   "source": [
    "sns.countplot(x='target',data=data)\n",
    "plt.title(\"Target Distribution\")\n",
    "plt.show()"
   ]
  },
  {
   "cell_type": "markdown",
   "id": "2e1bd042",
   "metadata": {},
   "source": [
    "Spliting data into features(x) and target(y)"
   ]
  },
  {
   "cell_type": "code",
   "execution_count": 7,
   "id": "704add65",
   "metadata": {},
   "outputs": [],
   "source": [
    "x = data.drop(['ID_code', 'target'], axis = 1)\n",
    "y = data['target']"
   ]
  },
  {
   "cell_type": "markdown",
   "id": "4e292666",
   "metadata": {},
   "source": [
    "Spliting into training and testing sets"
   ]
  },
  {
   "cell_type": "code",
   "execution_count": 8,
   "id": "1b3079c1",
   "metadata": {},
   "outputs": [],
   "source": [
    "x_train, x_test, y_train, y_test = train_test_split(x,y, test_size = 0.2, random_state = 42,)"
   ]
  },
  {
   "cell_type": "code",
   "execution_count": 9,
   "id": "7a431327",
   "metadata": {},
   "outputs": [
    {
     "name": "stdout",
     "output_type": "stream",
     "text": [
      "X_train: (160000, 200)\n",
      "X_test: (40000, 200)\n",
      "Y_train: 160000\n",
      "Y_test: 40000\n"
     ]
    }
   ],
   "source": [
    "print(\"X_train:\", x_train.shape)\n",
    "print(\"X_test:\", x_test.shape)\n",
    "print(\"Y_train:\", len(y_train))\n",
    "print(\"Y_test:\", len(y_test))"
   ]
  },
  {
   "cell_type": "markdown",
   "id": "8cbb2c4c",
   "metadata": {},
   "source": [
    "# Logistic Regression Model"
   ]
  },
  {
   "cell_type": "code",
   "execution_count": 10,
   "id": "ee8ca25b",
   "metadata": {},
   "outputs": [],
   "source": [
    "from sklearn.linear_model import LogisticRegression\n",
    "from sklearn.metrics import classification_report, roc_auc_score, confusion_matrix"
   ]
  },
  {
   "cell_type": "code",
   "execution_count": 11,
   "id": "cc4c9351",
   "metadata": {},
   "outputs": [
    {
     "name": "stderr",
     "output_type": "stream",
     "text": [
      "C:\\Users\\nakandinda\\AppData\\Roaming\\Python\\Python310\\site-packages\\sklearn\\linear_model\\_logistic.py:460: ConvergenceWarning: lbfgs failed to converge (status=1):\n",
      "STOP: TOTAL NO. of ITERATIONS REACHED LIMIT.\n",
      "\n",
      "Increase the number of iterations (max_iter) or scale the data as shown in:\n",
      "    https://scikit-learn.org/stable/modules/preprocessing.html\n",
      "Please also refer to the documentation for alternative solver options:\n",
      "    https://scikit-learn.org/stable/modules/linear_model.html#logistic-regression\n",
      "  n_iter_i = _check_optimize_result(\n"
     ]
    },
    {
     "data": {
      "text/html": [
       "<style>#sk-container-id-1 {color: black;}#sk-container-id-1 pre{padding: 0;}#sk-container-id-1 div.sk-toggleable {background-color: white;}#sk-container-id-1 label.sk-toggleable__label {cursor: pointer;display: block;width: 100%;margin-bottom: 0;padding: 0.3em;box-sizing: border-box;text-align: center;}#sk-container-id-1 label.sk-toggleable__label-arrow:before {content: \"▸\";float: left;margin-right: 0.25em;color: #696969;}#sk-container-id-1 label.sk-toggleable__label-arrow:hover:before {color: black;}#sk-container-id-1 div.sk-estimator:hover label.sk-toggleable__label-arrow:before {color: black;}#sk-container-id-1 div.sk-toggleable__content {max-height: 0;max-width: 0;overflow: hidden;text-align: left;background-color: #f0f8ff;}#sk-container-id-1 div.sk-toggleable__content pre {margin: 0.2em;color: black;border-radius: 0.25em;background-color: #f0f8ff;}#sk-container-id-1 input.sk-toggleable__control:checked~div.sk-toggleable__content {max-height: 200px;max-width: 100%;overflow: auto;}#sk-container-id-1 input.sk-toggleable__control:checked~label.sk-toggleable__label-arrow:before {content: \"▾\";}#sk-container-id-1 div.sk-estimator input.sk-toggleable__control:checked~label.sk-toggleable__label {background-color: #d4ebff;}#sk-container-id-1 div.sk-label input.sk-toggleable__control:checked~label.sk-toggleable__label {background-color: #d4ebff;}#sk-container-id-1 input.sk-hidden--visually {border: 0;clip: rect(1px 1px 1px 1px);clip: rect(1px, 1px, 1px, 1px);height: 1px;margin: -1px;overflow: hidden;padding: 0;position: absolute;width: 1px;}#sk-container-id-1 div.sk-estimator {font-family: monospace;background-color: #f0f8ff;border: 1px dotted black;border-radius: 0.25em;box-sizing: border-box;margin-bottom: 0.5em;}#sk-container-id-1 div.sk-estimator:hover {background-color: #d4ebff;}#sk-container-id-1 div.sk-parallel-item::after {content: \"\";width: 100%;border-bottom: 1px solid gray;flex-grow: 1;}#sk-container-id-1 div.sk-label:hover label.sk-toggleable__label {background-color: #d4ebff;}#sk-container-id-1 div.sk-serial::before {content: \"\";position: absolute;border-left: 1px solid gray;box-sizing: border-box;top: 0;bottom: 0;left: 50%;z-index: 0;}#sk-container-id-1 div.sk-serial {display: flex;flex-direction: column;align-items: center;background-color: white;padding-right: 0.2em;padding-left: 0.2em;position: relative;}#sk-container-id-1 div.sk-item {position: relative;z-index: 1;}#sk-container-id-1 div.sk-parallel {display: flex;align-items: stretch;justify-content: center;background-color: white;position: relative;}#sk-container-id-1 div.sk-item::before, #sk-container-id-1 div.sk-parallel-item::before {content: \"\";position: absolute;border-left: 1px solid gray;box-sizing: border-box;top: 0;bottom: 0;left: 50%;z-index: -1;}#sk-container-id-1 div.sk-parallel-item {display: flex;flex-direction: column;z-index: 1;position: relative;background-color: white;}#sk-container-id-1 div.sk-parallel-item:first-child::after {align-self: flex-end;width: 50%;}#sk-container-id-1 div.sk-parallel-item:last-child::after {align-self: flex-start;width: 50%;}#sk-container-id-1 div.sk-parallel-item:only-child::after {width: 0;}#sk-container-id-1 div.sk-dashed-wrapped {border: 1px dashed gray;margin: 0 0.4em 0.5em 0.4em;box-sizing: border-box;padding-bottom: 0.4em;background-color: white;}#sk-container-id-1 div.sk-label label {font-family: monospace;font-weight: bold;display: inline-block;line-height: 1.2em;}#sk-container-id-1 div.sk-label-container {text-align: center;}#sk-container-id-1 div.sk-container {/* jupyter's `normalize.less` sets `[hidden] { display: none; }` but bootstrap.min.css set `[hidden] { display: none !important; }` so we also need the `!important` here to be able to override the default hidden behavior on the sphinx rendered scikit-learn.org. See: https://github.com/scikit-learn/scikit-learn/issues/21755 */display: inline-block !important;position: relative;}#sk-container-id-1 div.sk-text-repr-fallback {display: none;}</style><div id=\"sk-container-id-1\" class=\"sk-top-container\"><div class=\"sk-text-repr-fallback\"><pre>LogisticRegression(max_iter=1000, random_state=42)</pre><b>In a Jupyter environment, please rerun this cell to show the HTML representation or trust the notebook. <br />On GitHub, the HTML representation is unable to render, please try loading this page with nbviewer.org.</b></div><div class=\"sk-container\" hidden><div class=\"sk-item\"><div class=\"sk-estimator sk-toggleable\"><input class=\"sk-toggleable__control sk-hidden--visually\" id=\"sk-estimator-id-1\" type=\"checkbox\" checked><label for=\"sk-estimator-id-1\" class=\"sk-toggleable__label sk-toggleable__label-arrow\">LogisticRegression</label><div class=\"sk-toggleable__content\"><pre>LogisticRegression(max_iter=1000, random_state=42)</pre></div></div></div></div></div>"
      ],
      "text/plain": [
       "LogisticRegression(max_iter=1000, random_state=42)"
      ]
     },
     "execution_count": 11,
     "metadata": {},
     "output_type": "execute_result"
    }
   ],
   "source": [
    "#Initializing and training the model\n",
    "logR = LogisticRegression(max_iter=1000, random_state=42)\n",
    "logR.fit(x_train, y_train)"
   ]
  },
  {
   "cell_type": "code",
   "execution_count": 12,
   "id": "732214f1",
   "metadata": {},
   "outputs": [
    {
     "data": {
      "text/plain": [
       "array([0, 0, 0, ..., 0, 0, 0], dtype=int64)"
      ]
     },
     "execution_count": 12,
     "metadata": {},
     "output_type": "execute_result"
    }
   ],
   "source": [
    "#Predictions on test data\n",
    "y_pred = logR.predict(x_train)\n",
    "y_pred"
   ]
  },
  {
   "cell_type": "code",
   "execution_count": 13,
   "id": "721a76fd",
   "metadata": {},
   "outputs": [
    {
     "name": "stdout",
     "output_type": "stream",
     "text": [
      "0.91445\n",
      "0.9129\n"
     ]
    }
   ],
   "source": [
    "#Evaluation on the train data\n",
    "print(logR.score(x_train,y_train))\n",
    "print(logR.score(x_test,y_test))"
   ]
  },
  {
   "cell_type": "code",
   "execution_count": 14,
   "id": "14640327",
   "metadata": {},
   "outputs": [
    {
     "data": {
      "image/png": "[encoded data removed]",
      "text/plain": [
       "<Figure size 800x600 with 2 Axes>"
      ]
     },
     "metadata": {},
     "output_type": "display_data"
    }
   ],
   "source": [
    "#Generating a confusion matrix\n",
    "cm = confusion_matrix(y_train,y_pred)\n",
    "\n",
    "#Ploting the confusion matrix\n",
    "plt.figure(figsize=(8,6))\n",
    "sns.heatmap(cm, annot=True, fmt ='d', cmap='Blues')\n",
    "plt.xlabel('Predicted')\n",
    "plt.ylabel('Actual')\n",
    "plt.title('Confusion Matrix')\n",
    "plt.show()"
   ]
  },
  {
   "cell_type": "code",
   "execution_count": 15,
   "id": "13a0d7c9",
   "metadata": {},
   "outputs": [
    {
     "name": "stdout",
     "output_type": "stream",
     "text": [
      "Optimization terminated successfully.\n",
      "         Current function value: 0.231171\n",
      "         Iterations 8\n"
     ]
    }
   ],
   "source": [
    "#Fitting the Linear Regression Model using statsmodel\n",
    "import statsmodels.api as sm\n",
    "#Building the model\n",
    "log_reg = sm.Logit(endog = y, exog = x)\n",
    "#fitting the data\n",
    "log_reg = log_reg.fit()\n"
   ]
  },
  {
   "cell_type": "code",
   "execution_count": 16,
   "id": "f20bfc00",
   "metadata": {},
   "outputs": [
    {
     "name": "stdout",
     "output_type": "stream",
     "text": [
      "                           Logit Regression Results                           \n",
      "==============================================================================\n",
      "Dep. Variable:                 target   No. Observations:               200000\n",
      "Model:                          Logit   Df Residuals:                   199800\n",
      "Method:                           MLE   Df Model:                          199\n",
      "Date:                Wed, 08 Jan 2025   Pseudo R-squ.:                  0.2912\n",
      "Time:                        09:46:30   Log-Likelihood:                -46234.\n",
      "converged:                       True   LL-Null:                       -65232.\n",
      "Covariance Type:            nonrobust   LLR p-value:                     0.000\n",
      "==============================================================================\n",
      "                 coef    std err          z      P>|z|      [0.025      0.975]\n",
      "------------------------------------------------------------------------------\n",
      "var_0          0.0551      0.003     19.699      0.000       0.050       0.061\n",
      "var_1          0.0406      0.002     19.068      0.000       0.036       0.045\n",
      "var_2          0.0658      0.003     20.439      0.000       0.059       0.072\n",
      "var_3          0.0176      0.004      4.158      0.000       0.009       0.026\n",
      "var_4          0.0237      0.005      4.457      0.000       0.013       0.034\n",
      "var_5          0.0138      0.001     12.582      0.000       0.012       0.016\n",
      "var_6          0.2611      0.010     26.444      0.000       0.242       0.280\n",
      "var_7         -0.0014      0.003     -0.573      0.567      -0.006       0.004\n",
      "var_8          0.0181      0.003      6.968      0.000       0.013       0.023\n",
      "var_9         -0.1110      0.007    -15.962      0.000      -0.125      -0.097\n",
      "var_10        -0.0009      0.002     -0.541      0.589      -0.004       0.002\n",
      "var_11         0.0124      0.001      8.601      0.000       0.010       0.015\n",
      "var_12        -1.1157      0.045    -25.034      0.000      -1.203      -1.028\n",
      "var_13        -0.0389      0.002    -21.067      0.000      -0.043      -0.035\n",
      "var_14        -0.0071      0.004     -1.842      0.065      -0.015       0.000\n",
      "var_15         0.1430      0.021      6.819      0.000       0.102       0.184\n",
      "var_16         0.0083      0.003      2.456      0.014       0.002       0.015\n",
      "var_17     -5.289e-05      0.001     -0.041      0.967      -0.003       0.002\n",
      "var_18         0.0171      0.001     15.636      0.000       0.015       0.019\n",
      "var_19         0.0044      0.001      4.038      0.000       0.002       0.006\n",
      "var_20        -0.0108      0.001     -7.309      0.000      -0.014      -0.008\n",
      "var_21        -0.0238      0.001    -22.512      0.000      -0.026      -0.022\n",
      "var_22         0.0706      0.003     23.559      0.000       0.065       0.076\n",
      "var_23        -0.1723      0.016    -10.480      0.000      -0.205      -0.140\n",
      "var_24         0.0263      0.002     11.516      0.000       0.022       0.031\n",
      "var_25         0.1564      0.030      5.192      0.000       0.097       0.215\n",
      "var_26         0.0334      0.001     23.276      0.000       0.031       0.036\n",
      "var_27        -0.0051      0.006     -0.894      0.371      -0.016       0.006\n",
      "var_28        -0.1029      0.011     -9.322      0.000      -0.125      -0.081\n",
      "var_29         0.0086      0.003      2.614      0.009       0.002       0.015\n",
      "var_30        -0.0002      0.001     -0.223      0.823      -0.002       0.002\n",
      "var_31        -0.0406      0.004    -10.107      0.000      -0.049      -0.033\n",
      "var_32         0.0392      0.003     11.752      0.000       0.033       0.046\n",
      "var_33        -0.0356      0.002    -17.703      0.000      -0.040      -0.032\n",
      "var_34        -0.3221      0.016    -20.192      0.000      -0.353      -0.291\n",
      "var_35         0.0236      0.002     14.159      0.000       0.020       0.027\n",
      "var_36        -0.0411      0.003    -14.826      0.000      -0.046      -0.036\n",
      "var_37         0.0118      0.004      3.078      0.002       0.004       0.019\n",
      "var_38         0.0006      0.002      0.291      0.771      -0.003       0.005\n",
      "var_39        -0.0031      0.002     -1.452      0.147      -0.007       0.001\n",
      "var_40         0.0202      0.001     19.484      0.000       0.018       0.022\n",
      "var_41        -0.0011      0.001     -0.764      0.445      -0.004       0.002\n",
      "var_42        -0.0404      0.012     -3.249      0.001      -0.065      -0.016\n",
      "var_43        -0.2844      0.028    -10.207      0.000      -0.339      -0.230\n",
      "var_44        -0.0281      0.001    -19.609      0.000      -0.031      -0.025\n",
      "var_45        -0.0032      0.000     -7.947      0.000      -0.004      -0.002\n",
      "var_46         0.0060      0.003      1.977      0.048    5.28e-05       0.012\n",
      "var_47         0.0031      0.001      3.811      0.000       0.002       0.005\n",
      "var_48         0.0093      0.001     12.219      0.000       0.008       0.011\n",
      "var_49         0.0121      0.001     10.989      0.000       0.010       0.014\n",
      "var_50        -0.0635      0.012     -5.091      0.000      -0.088      -0.039\n",
      "var_51         0.0091      0.001      8.649      0.000       0.007       0.011\n",
      "var_52         0.0182      0.002     10.520      0.000       0.015       0.022\n",
      "var_53         0.2800      0.011     24.921      0.000       0.258       0.302\n",
      "var_54        -0.0068      0.001     -6.574      0.000      -0.009      -0.005\n",
      "var_55         0.0108      0.002      7.093      0.000       0.008       0.014\n",
      "var_56        -0.0315      0.002    -13.009      0.000      -0.036      -0.027\n",
      "var_57        -0.0671      0.011     -6.166      0.000      -0.088      -0.046\n",
      "var_58        -0.0193      0.002     -9.590      0.000      -0.023      -0.015\n",
      "var_59        -0.0422      0.010     -4.170      0.000      -0.062      -0.022\n",
      "var_60         0.0056      0.002      2.746      0.006       0.002       0.010\n",
      "var_61         0.0025      0.001      3.401      0.001       0.001       0.004\n",
      "var_62         0.0268      0.004      6.304      0.000       0.018       0.035\n",
      "var_63        -0.0152      0.003     -5.488      0.000      -0.021      -0.010\n",
      "var_64        -0.0285      0.006     -4.912      0.000      -0.040      -0.017\n",
      "var_65         0.0079      0.002      3.435      0.001       0.003       0.012\n",
      "var_66         0.0640      0.008      8.330      0.000       0.049       0.079\n",
      "var_67         0.0202      0.001     17.173      0.000       0.018       0.022\n",
      "var_68         6.2153      0.272     22.884      0.000       5.683       6.748\n",
      "var_69         0.0053      0.002      2.444      0.015       0.001       0.010\n",
      "var_70         0.0076      0.001     10.414      0.000       0.006       0.009\n",
      "var_71         0.4186      0.032     12.922      0.000       0.355       0.482\n",
      "var_72        -0.0111      0.002     -5.066      0.000      -0.015      -0.007\n",
      "var_73        -0.0029      0.001     -2.514      0.012      -0.005      -0.001\n",
      "var_74         0.0047      0.001      7.566      0.000       0.003       0.006\n",
      "var_75        -0.0204      0.001    -14.363      0.000      -0.023      -0.018\n",
      "var_76        -0.0262      0.001    -24.299      0.000      -0.028      -0.024\n",
      "var_77        -0.0151      0.002     -6.619      0.000      -0.020      -0.011\n",
      "var_78         0.0820      0.004     18.874      0.000       0.074       0.091\n",
      "var_79         0.0165      0.007      2.502      0.012       0.004       0.029\n",
      "var_80        -0.0250      0.001    -21.889      0.000      -0.027      -0.023\n",
      "var_81        -0.1113      0.004    -30.349      0.000      -0.119      -0.104\n",
      "var_82         0.0085      0.001      8.358      0.000       0.007       0.011\n",
      "var_83        -0.0082      0.001     -7.929      0.000      -0.010      -0.006\n",
      "var_84         0.0056      0.001      4.035      0.000       0.003       0.008\n",
      "var_85        -0.0181      0.002     -8.146      0.000      -0.022      -0.014\n",
      "var_86        -0.0166      0.001    -15.105      0.000      -0.019      -0.014\n",
      "var_87        -0.0210      0.002    -13.731      0.000      -0.024      -0.018\n",
      "var_88        -0.0247      0.003     -7.113      0.000      -0.031      -0.018\n",
      "var_89         0.0375      0.002     15.532      0.000       0.033       0.042\n",
      "var_90         0.0072      0.001     10.900      0.000       0.006       0.008\n",
      "var_91         0.8629      0.056     15.316      0.000       0.752       0.973\n",
      "var_92        -0.0351      0.002    -16.990      0.000      -0.039      -0.031\n",
      "var_93        -0.1932      0.016    -12.289      0.000      -0.224      -0.162\n",
      "var_94         0.0585      0.003     18.859      0.000       0.052       0.065\n",
      "var_95         0.1993      0.014     14.448      0.000       0.172       0.226\n",
      "var_96         0.0014      0.001      1.377      0.168      -0.001       0.003\n",
      "var_97         0.0039      0.001      5.769      0.000       0.003       0.005\n",
      "var_98        -0.0151      0.012     -1.251      0.211      -0.039       0.009\n",
      "var_99         0.1059      0.005     23.007      0.000       0.097       0.115\n",
      "var_100        0.0007      0.001      0.778      0.436      -0.001       0.003\n",
      "var_101       -0.0063      0.002     -3.630      0.000      -0.010      -0.003\n",
      "var_102       -0.0071      0.001     -7.132      0.000      -0.009      -0.005\n",
      "var_103       -0.0306      0.047     -0.656      0.512      -0.122       0.061\n",
      "var_104       -0.0467      0.004    -10.606      0.000      -0.055      -0.038\n",
      "var_105        0.0960      0.010      9.527      0.000       0.076       0.116\n",
      "var_106        0.0585      0.005     12.854      0.000       0.050       0.067\n",
      "var_107       -0.0183      0.001    -16.037      0.000      -0.021      -0.016\n",
      "var_108       -0.7960      0.050    -16.014      0.000      -0.893      -0.699\n",
      "var_109       -0.0360      0.002    -18.200      0.000      -0.040      -0.032\n",
      "var_110        0.0534      0.002     23.908      0.000       0.049       0.058\n",
      "var_111        0.0781      0.008      9.833      0.000       0.063       0.094\n",
      "var_112        0.0499      0.005      9.122      0.000       0.039       0.061\n",
      "var_113       -0.0108      0.002     -5.598      0.000      -0.015      -0.007\n",
      "var_114       -0.0837      0.009     -9.578      0.000      -0.101      -0.067\n",
      "var_115       -0.0610      0.003    -18.631      0.000      -0.067      -0.055\n",
      "var_116       -0.0492      0.005     -9.403      0.000      -0.059      -0.039\n",
      "var_117        0.0007      0.001      1.076      0.282      -0.001       0.002\n",
      "var_118        0.0154      0.001     15.606      0.000       0.013       0.017\n",
      "var_119        0.0226      0.002     11.006      0.000       0.019       0.027\n",
      "var_120       -0.0026      0.001     -3.611      0.000      -0.004      -0.001\n",
      "var_121       -0.0767      0.005    -15.121      0.000      -0.087      -0.067\n",
      "var_122       -0.0280      0.002    -16.782      0.000      -0.031      -0.025\n",
      "var_123       -0.0208      0.001    -14.983      0.000      -0.024      -0.018\n",
      "var_124        0.0060      0.003      1.908      0.056      -0.000       0.012\n",
      "var_125        0.3121      0.027     11.572      0.000       0.259       0.365\n",
      "var_126        0.0144      0.011      1.290      0.197      -0.007       0.036\n",
      "var_127       -0.0408      0.003    -14.875      0.000      -0.046      -0.035\n",
      "var_128        0.0279      0.003     10.435      0.000       0.023       0.033\n",
      "var_129       -0.0049      0.002     -2.356      0.018      -0.009      -0.001\n",
      "var_130        0.1268      0.010     12.262      0.000       0.107       0.147\n",
      "var_131       -0.2116      0.019    -11.208      0.000      -0.249      -0.175\n",
      "var_132       -0.0576      0.006     -9.730      0.000      -0.069      -0.046\n",
      "var_133        0.4658      0.023     20.501      0.000       0.421       0.510\n",
      "var_134        0.0096      0.001      6.838      0.000       0.007       0.012\n",
      "var_135        0.0111      0.001      9.856      0.000       0.009       0.013\n",
      "var_136       -0.0014      0.001     -1.658      0.097      -0.003       0.000\n",
      "var_137        0.0106      0.001     10.891      0.000       0.009       0.013\n",
      "var_138        0.0133      0.002      7.003      0.000       0.010       0.017\n",
      "var_139       -0.0308      0.001    -27.648      0.000      -0.033      -0.029\n",
      "var_140        0.0123      0.002      6.936      0.000       0.009       0.016\n",
      "var_141       -0.0147      0.001    -11.447      0.000      -0.017      -0.012\n",
      "var_142       -0.0112      0.002     -7.393      0.000      -0.014      -0.008\n",
      "var_143       -0.0150      0.003     -5.086      0.000      -0.021      -0.009\n",
      "var_144        0.0779      0.009      8.331      0.000       0.060       0.096\n",
      "var_145        0.0253      0.002     11.436      0.000       0.021       0.030\n",
      "var_146       -0.0815      0.003    -24.104      0.000      -0.088      -0.075\n",
      "var_147        0.0172      0.001     14.805      0.000       0.015       0.019\n",
      "var_148       -0.8473      0.043    -19.740      0.000      -0.931      -0.763\n",
      "var_149       -0.0144      0.001    -17.324      0.000      -0.016      -0.013\n",
      "var_150       -0.0374      0.004    -10.667      0.000      -0.044      -0.031\n",
      "var_151        0.0235      0.002     10.839      0.000       0.019       0.028\n",
      "var_152       -0.0114      0.003     -3.976      0.000      -0.017      -0.006\n",
      "var_153       -0.0073      0.004     -1.705      0.088      -0.016       0.001\n",
      "var_154       -0.0295      0.002    -17.050      0.000      -0.033      -0.026\n",
      "var_155        0.0215      0.001     14.468      0.000       0.019       0.024\n",
      "var_156       -0.0670      0.009     -7.402      0.000      -0.085      -0.049\n",
      "var_157        0.0185      0.002     11.992      0.000       0.015       0.021\n",
      "var_158       -0.0017      0.001     -1.509      0.131      -0.004       0.000\n",
      "var_159        0.0127      0.002      6.049      0.000       0.009       0.017\n",
      "var_160       -0.0012      0.001     -1.519      0.129      -0.003       0.000\n",
      "var_161        0.0829      0.040      2.093      0.036       0.005       0.161\n",
      "var_162        0.0754      0.006     12.425      0.000       0.064       0.087\n",
      "var_163        0.0194      0.002     11.921      0.000       0.016       0.023\n",
      "var_164        0.0250      0.002     15.736      0.000       0.022       0.028\n",
      "var_165       -0.0351      0.002    -20.445      0.000      -0.038      -0.032\n",
      "var_166       -0.4901      0.023    -21.088      0.000      -0.536      -0.445\n",
      "var_167        0.0125      0.001     11.280      0.000       0.010       0.015\n",
      "var_168        0.0146      0.003      5.278      0.000       0.009       0.020\n",
      "var_169       -0.4154      0.023    -17.740      0.000      -0.461      -0.369\n",
      "var_170        0.0364      0.002     18.831      0.000       0.033       0.040\n",
      "var_171        0.0084      0.002      5.261      0.000       0.005       0.012\n",
      "var_172       -0.0145      0.001    -14.560      0.000      -0.016      -0.013\n",
      "var_173        0.0241      0.001     16.579      0.000       0.021       0.027\n",
      "var_174       -0.0280      0.001    -23.303      0.000      -0.030      -0.026\n",
      "var_175        0.0275      0.003      9.254      0.000       0.022       0.033\n",
      "var_176        0.0042      0.001      3.623      0.000       0.002       0.006\n",
      "var_177       -0.0483      0.003    -14.646      0.000      -0.055      -0.042\n",
      "var_178       -0.0070      0.001     -6.996      0.000      -0.009      -0.005\n",
      "var_179        0.0590      0.003     19.517      0.000       0.053       0.065\n",
      "var_180        0.0197      0.002     12.056      0.000       0.017       0.023\n",
      "var_181        0.0370      0.006      5.886      0.000       0.025       0.049\n",
      "var_182       -0.0038      0.001     -3.906      0.000      -0.006      -0.002\n",
      "var_183       -0.0023      0.002     -1.206      0.228      -0.006       0.001\n",
      "var_184        0.0174      0.001     18.932      0.000       0.016       0.019\n",
      "var_185       -0.0006      0.002     -0.320      0.749      -0.004       0.003\n",
      "var_186       -0.0310      0.003    -11.425      0.000      -0.036      -0.026\n",
      "var_187        0.0044      0.001      5.804      0.000       0.003       0.006\n",
      "var_188       -0.0293      0.002    -13.416      0.000      -0.034      -0.025\n",
      "var_189        0.0254      0.009      2.870      0.004       0.008       0.043\n",
      "var_190        0.0409      0.002     21.585      0.000       0.037       0.045\n",
      "var_191        0.0515      0.003     18.286      0.000       0.046       0.057\n",
      "var_192       -0.0970      0.006    -16.496      0.000      -0.109      -0.086\n",
      "var_193       -0.0152      0.002     -7.004      0.000      -0.019      -0.011\n",
      "var_194       -0.0230      0.003     -8.346      0.000      -0.028      -0.018\n",
      "var_195        0.0673      0.006     11.196      0.000       0.056       0.079\n",
      "var_196        0.0136      0.002      8.580      0.000       0.010       0.017\n",
      "var_197       -0.1307      0.009    -13.961      0.000      -0.149      -0.112\n",
      "var_198       -0.0573      0.003    -20.221      0.000      -0.063      -0.052\n",
      "var_199        0.0079      0.001      9.424      0.000       0.006       0.009\n",
      "==============================================================================\n"
     ]
    }
   ],
   "source": [
    "print(log_reg.summary())"
   ]
  },
  {
   "cell_type": "code",
   "execution_count": 17,
   "id": "26bbfeba",
   "metadata": {},
   "outputs": [
    {
     "name": "stdout",
     "output_type": "stream",
     "text": [
      "         Odds Ratio\n",
      "var_0      1.056666\n",
      "var_1      1.041456\n",
      "var_2      1.068017\n",
      "var_3      1.017777\n",
      "var_4      1.023990\n",
      "...             ...\n",
      "var_195    1.069656\n",
      "var_196    1.013687\n",
      "var_197    0.877500\n",
      "var_198    0.944353\n",
      "var_199    1.007894\n",
      "\n",
      "[200 rows x 1 columns]\n"
     ]
    }
   ],
   "source": [
    "odds_ratios = pd.DataFrame({\"Odds Ratio\": log_reg.params})\n",
    "\n",
    "odds_ratios = np.exp(odds_ratios)\n",
    "print(odds_ratios)"
   ]
  },
  {
   "cell_type": "code",
   "execution_count": 18,
   "id": "84a17019",
   "metadata": {},
   "outputs": [],
   "source": [
    "#Due to occurence of many predictors, We use Lasso Regression for feature selection to eliminate less important features\n",
    "from sklearn.preprocessing import StandardScaler\n",
    "from sklearn.pipeline import Pipeline"
   ]
  },
  {
   "cell_type": "code",
   "execution_count": 19,
   "id": "972842b2",
   "metadata": {},
   "outputs": [
    {
     "data": {
      "text/html": [
       "<style>#sk-container-id-2 {color: black;}#sk-container-id-2 pre{padding: 0;}#sk-container-id-2 div.sk-toggleable {background-color: white;}#sk-container-id-2 label.sk-toggleable__label {cursor: pointer;display: block;width: 100%;margin-bottom: 0;padding: 0.3em;box-sizing: border-box;text-align: center;}#sk-container-id-2 label.sk-toggleable__label-arrow:before {content: \"▸\";float: left;margin-right: 0.25em;color: #696969;}#sk-container-id-2 label.sk-toggleable__label-arrow:hover:before {color: black;}#sk-container-id-2 div.sk-estimator:hover label.sk-toggleable__label-arrow:before {color: black;}#sk-container-id-2 div.sk-toggleable__content {max-height: 0;max-width: 0;overflow: hidden;text-align: left;background-color: #f0f8ff;}#sk-container-id-2 div.sk-toggleable__content pre {margin: 0.2em;color: black;border-radius: 0.25em;background-color: #f0f8ff;}#sk-container-id-2 input.sk-toggleable__control:checked~div.sk-toggleable__content {max-height: 200px;max-width: 100%;overflow: auto;}#sk-container-id-2 input.sk-toggleable__control:checked~label.sk-toggleable__label-arrow:before {content: \"▾\";}#sk-container-id-2 div.sk-estimator input.sk-toggleable__control:checked~label.sk-toggleable__label {background-color: #d4ebff;}#sk-container-id-2 div.sk-label input.sk-toggleable__control:checked~label.sk-toggleable__label {background-color: #d4ebff;}#sk-container-id-2 input.sk-hidden--visually {border: 0;clip: rect(1px 1px 1px 1px);clip: rect(1px, 1px, 1px, 1px);height: 1px;margin: -1px;overflow: hidden;padding: 0;position: absolute;width: 1px;}#sk-container-id-2 div.sk-estimator {font-family: monospace;background-color: #f0f8ff;border: 1px dotted black;border-radius: 0.25em;box-sizing: border-box;margin-bottom: 0.5em;}#sk-container-id-2 div.sk-estimator:hover {background-color: #d4ebff;}#sk-container-id-2 div.sk-parallel-item::after {content: \"\";width: 100%;border-bottom: 1px solid gray;flex-grow: 1;}#sk-container-id-2 div.sk-label:hover label.sk-toggleable__label {background-color: #d4ebff;}#sk-container-id-2 div.sk-serial::before {content: \"\";position: absolute;border-left: 1px solid gray;box-sizing: border-box;top: 0;bottom: 0;left: 50%;z-index: 0;}#sk-container-id-2 div.sk-serial {display: flex;flex-direction: column;align-items: center;background-color: white;padding-right: 0.2em;padding-left: 0.2em;position: relative;}#sk-container-id-2 div.sk-item {position: relative;z-index: 1;}#sk-container-id-2 div.sk-parallel {display: flex;align-items: stretch;justify-content: center;background-color: white;position: relative;}#sk-container-id-2 div.sk-item::before, #sk-container-id-2 div.sk-parallel-item::before {content: \"\";position: absolute;border-left: 1px solid gray;box-sizing: border-box;top: 0;bottom: 0;left: 50%;z-index: -1;}#sk-container-id-2 div.sk-parallel-item {display: flex;flex-direction: column;z-index: 1;position: relative;background-color: white;}#sk-container-id-2 div.sk-parallel-item:first-child::after {align-self: flex-end;width: 50%;}#sk-container-id-2 div.sk-parallel-item:last-child::after {align-self: flex-start;width: 50%;}#sk-container-id-2 div.sk-parallel-item:only-child::after {width: 0;}#sk-container-id-2 div.sk-dashed-wrapped {border: 1px dashed gray;margin: 0 0.4em 0.5em 0.4em;box-sizing: border-box;padding-bottom: 0.4em;background-color: white;}#sk-container-id-2 div.sk-label label {font-family: monospace;font-weight: bold;display: inline-block;line-height: 1.2em;}#sk-container-id-2 div.sk-label-container {text-align: center;}#sk-container-id-2 div.sk-container {/* jupyter's `normalize.less` sets `[hidden] { display: none; }` but bootstrap.min.css set `[hidden] { display: none !important; }` so we also need the `!important` here to be able to override the default hidden behavior on the sphinx rendered scikit-learn.org. See: https://github.com/scikit-learn/scikit-learn/issues/21755 */display: inline-block !important;position: relative;}#sk-container-id-2 div.sk-text-repr-fallback {display: none;}</style><div id=\"sk-container-id-2\" class=\"sk-top-container\"><div class=\"sk-text-repr-fallback\"><pre>Pipeline(steps=[(&#x27;scaler&#x27;, StandardScaler()),\n",
       "                (&#x27;lasso&#x27;,\n",
       "                 LogisticRegression(C=0.01, max_iter=1000, penalty=&#x27;l1&#x27;,\n",
       "                                    solver=&#x27;saga&#x27;))])</pre><b>In a Jupyter environment, please rerun this cell to show the HTML representation or trust the notebook. <br />On GitHub, the HTML representation is unable to render, please try loading this page with nbviewer.org.</b></div><div class=\"sk-container\" hidden><div class=\"sk-item sk-dashed-wrapped\"><div class=\"sk-label-container\"><div class=\"sk-label sk-toggleable\"><input class=\"sk-toggleable__control sk-hidden--visually\" id=\"sk-estimator-id-2\" type=\"checkbox\" ><label for=\"sk-estimator-id-2\" class=\"sk-toggleable__label sk-toggleable__label-arrow\">Pipeline</label><div class=\"sk-toggleable__content\"><pre>Pipeline(steps=[(&#x27;scaler&#x27;, StandardScaler()),\n",
       "                (&#x27;lasso&#x27;,\n",
       "                 LogisticRegression(C=0.01, max_iter=1000, penalty=&#x27;l1&#x27;,\n",
       "                                    solver=&#x27;saga&#x27;))])</pre></div></div></div><div class=\"sk-serial\"><div class=\"sk-item\"><div class=\"sk-estimator sk-toggleable\"><input class=\"sk-toggleable__control sk-hidden--visually\" id=\"sk-estimator-id-3\" type=\"checkbox\" ><label for=\"sk-estimator-id-3\" class=\"sk-toggleable__label sk-toggleable__label-arrow\">StandardScaler</label><div class=\"sk-toggleable__content\"><pre>StandardScaler()</pre></div></div></div><div class=\"sk-item\"><div class=\"sk-estimator sk-toggleable\"><input class=\"sk-toggleable__control sk-hidden--visually\" id=\"sk-estimator-id-4\" type=\"checkbox\" ><label for=\"sk-estimator-id-4\" class=\"sk-toggleable__label sk-toggleable__label-arrow\">LogisticRegression</label><div class=\"sk-toggleable__content\"><pre>LogisticRegression(C=0.01, max_iter=1000, penalty=&#x27;l1&#x27;, solver=&#x27;saga&#x27;)</pre></div></div></div></div></div></div></div>"
      ],
      "text/plain": [
       "Pipeline(steps=[('scaler', StandardScaler()),\n",
       "                ('lasso',\n",
       "                 LogisticRegression(C=0.01, max_iter=1000, penalty='l1',\n",
       "                                    solver='saga'))])"
      ]
     },
     "execution_count": 19,
     "metadata": {},
     "output_type": "execute_result"
    }
   ],
   "source": [
    "#Scale features and apply lasso(Least Absolute Shrinkage and Selection Operator)\n",
    "lasso_model = Pipeline([\n",
    "    ('scaler', StandardScaler()),\n",
    "    ('lasso', LogisticRegression(penalty='l1', solver='saga', max_iter=1000, C=0.01)) #L1 penalty for Lasso\n",
    "])\n",
    "\n",
    "lasso_model.fit(x,y)"
   ]
  },
  {
   "cell_type": "code",
   "execution_count": 20,
   "id": "b1635031",
   "metadata": {},
   "outputs": [
    {
     "name": "stdout",
     "output_type": "stream",
     "text": [
      "Important Features: Index(['var_0', 'var_1', 'var_2', 'var_3', 'var_4', 'var_5', 'var_6', 'var_8',\n",
      "       'var_9', 'var_11',\n",
      "       ...\n",
      "       'var_190', 'var_191', 'var_192', 'var_193', 'var_194', 'var_195',\n",
      "       'var_196', 'var_197', 'var_198', 'var_199'],\n",
      "      dtype='object', length=190)\n"
     ]
    }
   ],
   "source": [
    "#Get coefficients\n",
    "lasso_coefficients = lasso_model.named_steps['lasso'].coef_[0]\n",
    "important_features = x.columns[lasso_coefficients !=0]\n",
    "print(\"Important Features:\", important_features)"
   ]
  },
  {
   "cell_type": "markdown",
   "id": "f403f68b",
   "metadata": {},
   "source": [
    "#### Conclusion and challenges\n",
    "**Anonymized Features:**\n",
    "Without meaningful feature names, it was difficult to interpret\n",
    "Too many important features to choose from, need for use of an extensive model for proper performance.\n",
    "Let us use Random Forest Algorithm as a check on the challenge\n"
   ]
  },
  {
   "cell_type": "markdown",
   "id": "1f18a786",
   "metadata": {},
   "source": [
    "# Random Forest Model"
   ]
  },
  {
   "cell_type": "code",
   "execution_count": 21,
   "id": "c883071e",
   "metadata": {},
   "outputs": [
    {
     "data": {
      "text/html": [
       "<style>#sk-container-id-3 {color: black;}#sk-container-id-3 pre{padding: 0;}#sk-container-id-3 div.sk-toggleable {background-color: white;}#sk-container-id-3 label.sk-toggleable__label {cursor: pointer;display: block;width: 100%;margin-bottom: 0;padding: 0.3em;box-sizing: border-box;text-align: center;}#sk-container-id-3 label.sk-toggleable__label-arrow:before {content: \"▸\";float: left;margin-right: 0.25em;color: #696969;}#sk-container-id-3 label.sk-toggleable__label-arrow:hover:before {color: black;}#sk-container-id-3 div.sk-estimator:hover label.sk-toggleable__label-arrow:before {color: black;}#sk-container-id-3 div.sk-toggleable__content {max-height: 0;max-width: 0;overflow: hidden;text-align: left;background-color: #f0f8ff;}#sk-container-id-3 div.sk-toggleable__content pre {margin: 0.2em;color: black;border-radius: 0.25em;background-color: #f0f8ff;}#sk-container-id-3 input.sk-toggleable__control:checked~div.sk-toggleable__content {max-height: 200px;max-width: 100%;overflow: auto;}#sk-container-id-3 input.sk-toggleable__control:checked~label.sk-toggleable__label-arrow:before {content: \"▾\";}#sk-container-id-3 div.sk-estimator input.sk-toggleable__control:checked~label.sk-toggleable__label {background-color: #d4ebff;}#sk-container-id-3 div.sk-label input.sk-toggleable__control:checked~label.sk-toggleable__label {background-color: #d4ebff;}#sk-container-id-3 input.sk-hidden--visually {border: 0;clip: rect(1px 1px 1px 1px);clip: rect(1px, 1px, 1px, 1px);height: 1px;margin: -1px;overflow: hidden;padding: 0;position: absolute;width: 1px;}#sk-container-id-3 div.sk-estimator {font-family: monospace;background-color: #f0f8ff;border: 1px dotted black;border-radius: 0.25em;box-sizing: border-box;margin-bottom: 0.5em;}#sk-container-id-3 div.sk-estimator:hover {background-color: #d4ebff;}#sk-container-id-3 div.sk-parallel-item::after {content: \"\";width: 100%;border-bottom: 1px solid gray;flex-grow: 1;}#sk-container-id-3 div.sk-label:hover label.sk-toggleable__label {background-color: #d4ebff;}#sk-container-id-3 div.sk-serial::before {content: \"\";position: absolute;border-left: 1px solid gray;box-sizing: border-box;top: 0;bottom: 0;left: 50%;z-index: 0;}#sk-container-id-3 div.sk-serial {display: flex;flex-direction: column;align-items: center;background-color: white;padding-right: 0.2em;padding-left: 0.2em;position: relative;}#sk-container-id-3 div.sk-item {position: relative;z-index: 1;}#sk-container-id-3 div.sk-parallel {display: flex;align-items: stretch;justify-content: center;background-color: white;position: relative;}#sk-container-id-3 div.sk-item::before, #sk-container-id-3 div.sk-parallel-item::before {content: \"\";position: absolute;border-left: 1px solid gray;box-sizing: border-box;top: 0;bottom: 0;left: 50%;z-index: -1;}#sk-container-id-3 div.sk-parallel-item {display: flex;flex-direction: column;z-index: 1;position: relative;background-color: white;}#sk-container-id-3 div.sk-parallel-item:first-child::after {align-self: flex-end;width: 50%;}#sk-container-id-3 div.sk-parallel-item:last-child::after {align-self: flex-start;width: 50%;}#sk-container-id-3 div.sk-parallel-item:only-child::after {width: 0;}#sk-container-id-3 div.sk-dashed-wrapped {border: 1px dashed gray;margin: 0 0.4em 0.5em 0.4em;box-sizing: border-box;padding-bottom: 0.4em;background-color: white;}#sk-container-id-3 div.sk-label label {font-family: monospace;font-weight: bold;display: inline-block;line-height: 1.2em;}#sk-container-id-3 div.sk-label-container {text-align: center;}#sk-container-id-3 div.sk-container {/* jupyter's `normalize.less` sets `[hidden] { display: none; }` but bootstrap.min.css set `[hidden] { display: none !important; }` so we also need the `!important` here to be able to override the default hidden behavior on the sphinx rendered scikit-learn.org. See: https://github.com/scikit-learn/scikit-learn/issues/21755 */display: inline-block !important;position: relative;}#sk-container-id-3 div.sk-text-repr-fallback {display: none;}</style><div id=\"sk-container-id-3\" class=\"sk-top-container\"><div class=\"sk-text-repr-fallback\"><pre>RandomForestClassifier(random_state=42)</pre><b>In a Jupyter environment, please rerun this cell to show the HTML representation or trust the notebook. <br />On GitHub, the HTML representation is unable to render, please try loading this page with nbviewer.org.</b></div><div class=\"sk-container\" hidden><div class=\"sk-item\"><div class=\"sk-estimator sk-toggleable\"><input class=\"sk-toggleable__control sk-hidden--visually\" id=\"sk-estimator-id-5\" type=\"checkbox\" checked><label for=\"sk-estimator-id-5\" class=\"sk-toggleable__label sk-toggleable__label-arrow\">RandomForestClassifier</label><div class=\"sk-toggleable__content\"><pre>RandomForestClassifier(random_state=42)</pre></div></div></div></div></div>"
      ],
      "text/plain": [
       "RandomForestClassifier(random_state=42)"
      ]
     },
     "execution_count": 21,
     "metadata": {},
     "output_type": "execute_result"
    }
   ],
   "source": [
    "from sklearn.ensemble import RandomForestClassifier\n",
    "#Initialize and train the model\n",
    "Rf_model = RandomForestClassifier(n_estimators=100, random_state=42)\n",
    "Rf_model.fit(x_train,y_train)"
   ]
  },
  {
   "cell_type": "code",
   "execution_count": 22,
   "id": "62162808",
   "metadata": {},
   "outputs": [
    {
     "name": "stdout",
     "output_type": "stream",
     "text": [
      "[0 0 0 ... 0 0 0]\n"
     ]
    }
   ],
   "source": [
    "#Predictions\n",
    "y_pred_Rf = Rf_model.predict(x_test)\n",
    "print(y_pred_Rf)"
   ]
  },
  {
   "cell_type": "code",
   "execution_count": 23,
   "id": "402a30e1",
   "metadata": {},
   "outputs": [
    {
     "name": "stdout",
     "output_type": "stream",
     "text": [
      "Random Forest Performance\n",
      "              precision    recall  f1-score   support\n",
      "\n",
      "           0       0.90      1.00      0.95     35903\n",
      "           1       1.00      0.00      0.00      4097\n",
      "\n",
      "    accuracy                           0.90     40000\n",
      "   macro avg       0.95      0.50      0.47     40000\n",
      "weighted avg       0.91      0.90      0.85     40000\n",
      "\n"
     ]
    }
   ],
   "source": [
    "#Evaluation\n",
    "print(\"Random Forest Performance\")\n",
    "print(classification_report(y_test, y_pred_Rf))"
   ]
  },
  {
   "cell_type": "code",
   "execution_count": 24,
   "id": "9c3e0403",
   "metadata": {},
   "outputs": [
    {
     "name": "stdout",
     "output_type": "stream",
     "text": [
      "0    143999\n",
      "1     16001\n",
      "Name: target, dtype: int64\n"
     ]
    }
   ],
   "source": [
    "print(y_train.value_counts())"
   ]
  },
  {
   "cell_type": "markdown",
   "id": "b7b3eb77",
   "metadata": {},
   "source": [
    "Challenges:\n",
    "The model is achieving high precision for both classes, but the recall for class 1 is very low. This suggests that the model is predicting almost all customers as class 0 (no transaction) likely due to class imbalance in the dataset."
   ]
  },
  {
   "cell_type": "markdown",
   "id": "0ad69f4e",
   "metadata": {},
   "source": [
    "# Gradient Boosting Model"
   ]
  },
  {
   "cell_type": "code",
   "execution_count": 25,
   "id": "e7f6967b",
   "metadata": {},
   "outputs": [
    {
     "data": {
      "text/html": [
       "<style>#sk-container-id-4 {color: black;}#sk-container-id-4 pre{padding: 0;}#sk-container-id-4 div.sk-toggleable {background-color: white;}#sk-container-id-4 label.sk-toggleable__label {cursor: pointer;display: block;width: 100%;margin-bottom: 0;padding: 0.3em;box-sizing: border-box;text-align: center;}#sk-container-id-4 label.sk-toggleable__label-arrow:before {content: \"▸\";float: left;margin-right: 0.25em;color: #696969;}#sk-container-id-4 label.sk-toggleable__label-arrow:hover:before {color: black;}#sk-container-id-4 div.sk-estimator:hover label.sk-toggleable__label-arrow:before {color: black;}#sk-container-id-4 div.sk-toggleable__content {max-height: 0;max-width: 0;overflow: hidden;text-align: left;background-color: #f0f8ff;}#sk-container-id-4 div.sk-toggleable__content pre {margin: 0.2em;color: black;border-radius: 0.25em;background-color: #f0f8ff;}#sk-container-id-4 input.sk-toggleable__control:checked~div.sk-toggleable__content {max-height: 200px;max-width: 100%;overflow: auto;}#sk-container-id-4 input.sk-toggleable__control:checked~label.sk-toggleable__label-arrow:before {content: \"▾\";}#sk-container-id-4 div.sk-estimator input.sk-toggleable__control:checked~label.sk-toggleable__label {background-color: #d4ebff;}#sk-container-id-4 div.sk-label input.sk-toggleable__control:checked~label.sk-toggleable__label {background-color: #d4ebff;}#sk-container-id-4 input.sk-hidden--visually {border: 0;clip: rect(1px 1px 1px 1px);clip: rect(1px, 1px, 1px, 1px);height: 1px;margin: -1px;overflow: hidden;padding: 0;position: absolute;width: 1px;}#sk-container-id-4 div.sk-estimator {font-family: monospace;background-color: #f0f8ff;border: 1px dotted black;border-radius: 0.25em;box-sizing: border-box;margin-bottom: 0.5em;}#sk-container-id-4 div.sk-estimator:hover {background-color: #d4ebff;}#sk-container-id-4 div.sk-parallel-item::after {content: \"\";width: 100%;border-bottom: 1px solid gray;flex-grow: 1;}#sk-container-id-4 div.sk-label:hover label.sk-toggleable__label {background-color: #d4ebff;}#sk-container-id-4 div.sk-serial::before {content: \"\";position: absolute;border-left: 1px solid gray;box-sizing: border-box;top: 0;bottom: 0;left: 50%;z-index: 0;}#sk-container-id-4 div.sk-serial {display: flex;flex-direction: column;align-items: center;background-color: white;padding-right: 0.2em;padding-left: 0.2em;position: relative;}#sk-container-id-4 div.sk-item {position: relative;z-index: 1;}#sk-container-id-4 div.sk-parallel {display: flex;align-items: stretch;justify-content: center;background-color: white;position: relative;}#sk-container-id-4 div.sk-item::before, #sk-container-id-4 div.sk-parallel-item::before {content: \"\";position: absolute;border-left: 1px solid gray;box-sizing: border-box;top: 0;bottom: 0;left: 50%;z-index: -1;}#sk-container-id-4 div.sk-parallel-item {display: flex;flex-direction: column;z-index: 1;position: relative;background-color: white;}#sk-container-id-4 div.sk-parallel-item:first-child::after {align-self: flex-end;width: 50%;}#sk-container-id-4 div.sk-parallel-item:last-child::after {align-self: flex-start;width: 50%;}#sk-container-id-4 div.sk-parallel-item:only-child::after {width: 0;}#sk-container-id-4 div.sk-dashed-wrapped {border: 1px dashed gray;margin: 0 0.4em 0.5em 0.4em;box-sizing: border-box;padding-bottom: 0.4em;background-color: white;}#sk-container-id-4 div.sk-label label {font-family: monospace;font-weight: bold;display: inline-block;line-height: 1.2em;}#sk-container-id-4 div.sk-label-container {text-align: center;}#sk-container-id-4 div.sk-container {/* jupyter's `normalize.less` sets `[hidden] { display: none; }` but bootstrap.min.css set `[hidden] { display: none !important; }` so we also need the `!important` here to be able to override the default hidden behavior on the sphinx rendered scikit-learn.org. See: https://github.com/scikit-learn/scikit-learn/issues/21755 */display: inline-block !important;position: relative;}#sk-container-id-4 div.sk-text-repr-fallback {display: none;}</style><div id=\"sk-container-id-4\" class=\"sk-top-container\"><div class=\"sk-text-repr-fallback\"><pre>GradientBoostingClassifier(random_state=42)</pre><b>In a Jupyter environment, please rerun this cell to show the HTML representation or trust the notebook. <br />On GitHub, the HTML representation is unable to render, please try loading this page with nbviewer.org.</b></div><div class=\"sk-container\" hidden><div class=\"sk-item\"><div class=\"sk-estimator sk-toggleable\"><input class=\"sk-toggleable__control sk-hidden--visually\" id=\"sk-estimator-id-6\" type=\"checkbox\" checked><label for=\"sk-estimator-id-6\" class=\"sk-toggleable__label sk-toggleable__label-arrow\">GradientBoostingClassifier</label><div class=\"sk-toggleable__content\"><pre>GradientBoostingClassifier(random_state=42)</pre></div></div></div></div></div>"
      ],
      "text/plain": [
       "GradientBoostingClassifier(random_state=42)"
      ]
     },
     "execution_count": 25,
     "metadata": {},
     "output_type": "execute_result"
    }
   ],
   "source": [
    "from sklearn.ensemble import GradientBoostingClassifier\n",
    "Gb_model = GradientBoostingClassifier(n_estimators = 100, learning_rate=0.1, random_state=42)\n",
    "Gb_model.fit(x_train,y_train)"
   ]
  },
  {
   "cell_type": "code",
   "execution_count": 26,
   "id": "677ceccb",
   "metadata": {},
   "outputs": [
    {
     "name": "stdout",
     "output_type": "stream",
     "text": [
      "[0 0 0 ... 0 0 0]\n"
     ]
    }
   ],
   "source": [
    "#Predictions\n",
    "y_pred_GB = Gb_model.predict(x_test)\n",
    "print(y_pred_GB)"
   ]
  },
  {
   "cell_type": "code",
   "execution_count": 27,
   "id": "a5c3c1dd",
   "metadata": {},
   "outputs": [
    {
     "name": "stdout",
     "output_type": "stream",
     "text": [
      "Gradient Boost Performance\n",
      "              precision    recall  f1-score   support\n",
      "\n",
      "           0       0.90      1.00      0.95     35903\n",
      "           1       0.85      0.03      0.06      4097\n",
      "\n",
      "    accuracy                           0.90     40000\n",
      "   macro avg       0.88      0.52      0.50     40000\n",
      "weighted avg       0.90      0.90      0.86     40000\n",
      "\n"
     ]
    }
   ],
   "source": [
    "#Evaluation\n",
    "print(\"Gradient Boost Performance\")\n",
    "print(classification_report(y_test, y_pred_GB))"
   ]
  },
  {
   "cell_type": "markdown",
   "id": "2ff2c2e6",
   "metadata": {},
   "source": [
    "The dataset is highly imbalanced, with 35,903 instances of Class 0 and only 4,097 instances of Class. Leading to the model prioritizing accuracy for the majority class (0).\n",
    "Poor recall for the minority class (1). To curb this, we will use XGBoost that handles inbalanced datasets better"
   ]
  },
  {
   "cell_type": "markdown",
   "id": "a38b671a",
   "metadata": {},
   "source": [
    "# XGBoost Algorithm"
   ]
  },
  {
   "cell_type": "code",
   "execution_count": 28,
   "id": "b3520f22",
   "metadata": {},
   "outputs": [
    {
     "name": "stdout",
     "output_type": "stream",
     "text": [
      "Defaulting to user installation because normal site-packages is not writeable\n",
      "Requirement already satisfied: xgboost in c:\\users\\nakandinda\\appdata\\roaming\\python\\python310\\site-packages (2.1.3)\n",
      "Requirement already satisfied: numpy in c:\\programdata\\anaconda3\\lib\\site-packages (from xgboost) (1.23.5)\n",
      "Requirement already satisfied: scipy in c:\\programdata\\anaconda3\\lib\\site-packages (from xgboost) (1.10.0)\n",
      "Note: you may need to restart the kernel to use updated packages.\n"
     ]
    }
   ],
   "source": [
    "pip install xgboost\n"
   ]
  },
  {
   "cell_type": "code",
   "execution_count": 29,
   "id": "f095358c",
   "metadata": {},
   "outputs": [
    {
     "name": "stderr",
     "output_type": "stream",
     "text": [
      "C:\\Users\\nakandinda\\AppData\\Roaming\\Python\\Python310\\site-packages\\xgboost\\core.py:158: UserWarning: [14:03:34] WARNING: C:\\buildkite-agent\\builds\\buildkite-windows-cpu-autoscaling-group-i-0c55ff5f71b100e98-1\\xgboost\\xgboost-ci-windows\\src\\learner.cc:740: \n",
      "Parameters: { \"use_label_encoder\" } are not used.\n",
      "\n",
      "  warnings.warn(smsg, UserWarning)\n"
     ]
    },
    {
     "name": "stdout",
     "output_type": "stream",
     "text": [
      "Confusion Matrix:\n",
      "[[31092  4811]\n",
      " [ 1404  2693]]\n",
      "\n",
      "Classification Report:\n",
      "              precision    recall  f1-score   support\n",
      "\n",
      "           0       0.96      0.87      0.91     35903\n",
      "           1       0.36      0.66      0.46      4097\n",
      "\n",
      "    accuracy                           0.84     40000\n",
      "   macro avg       0.66      0.76      0.69     40000\n",
      "weighted avg       0.90      0.84      0.86     40000\n",
      "\n",
      "\n",
      "ROC-AUC Score: 0.853077993194189\n"
     ]
    }
   ],
   "source": [
    "from xgboost import XGBClassifier\n",
    "from sklearn.metrics import classification_report, confusion_matrix, roc_auc_score\n",
    "\n",
    "# Calculate scale_pos_weight to handle class imbalance\n",
    "class_0_count = (y == 0).sum()\n",
    "class_1_count = (y == 1).sum()\n",
    "scale_pos_weight = class_0_count / class_1_count\n",
    "\n",
    "# Initialize XGBoost Classifier\n",
    "xgb_model = XGBClassifier(\n",
    "    n_estimators=100,          # Number of trees\n",
    "    learning_rate=0.1,         # Step size shrinkage\n",
    "    max_depth=6,               # Maximum depth of a tree\n",
    "    scale_pos_weight=scale_pos_weight,  # Handle class imbalance\n",
    "    random_state=42,           # Reproducibility\n",
    "    use_label_encoder=False    # Avoid label encoding warnings\n",
    ")\n",
    "\n",
    "# Fit the model\n",
    "xgb_model.fit(x_train, y_train)\n",
    "\n",
    "# Make predictions\n",
    "y_pred = xgb_model.predict(x_test)\n",
    "y_pred_proba = xgb_model.predict_proba(x_test)[:, 1]\n",
    "\n",
    "# Evaluation metrics\n",
    "print(\"Confusion Matrix:\")\n",
    "print(confusion_matrix(y_test, y_pred))\n",
    "\n",
    "print(\"\\nClassification Report:\")\n",
    "print(classification_report(y_test, y_pred))\n",
    "\n",
    "# ROC-AUC Score\n",
    "roc_auc = roc_auc_score(y_test, y_pred_proba)\n",
    "print(\"\\nROC-AUC Score:\", roc_auc)\n"
   ]
  },
  {
   "cell_type": "markdown",
   "id": "db7bb666",
   "metadata": {},
   "source": [
    "#### Key Observations\n",
    "Improved Minority Class Performance:\n",
    "\n",
    "The recall for Class 1 (0.66) is much better than previous models (i.e., Logistic Regression, Random Forest and Gradient Boosting). This indicates the model is identifying more minority class instances.\n",
    "Trade-off for Majority Class:\n",
    "\n",
    "Precision and recall for Class 0 decreased slightly due to the focus on balancing performance for both classes.\n",
    "Imbalance Handling:\n",
    "\n",
    "The use of scale_pos_weight in XGBoost has helped improve Class 1 recall while maintaining a good ROC-AUC score."
   ]
  },
  {
   "cell_type": "markdown",
   "id": "3ebb3d81",
   "metadata": {},
   "source": [
    "### Challenges Faced and Solutions During Modelling\n",
    "**Anonymized Features:**\n",
    "   - Without meaningful feature names, it was difficult to interpret the model or feature importance.\n",
    "   - Solution: We focused on model performance rather than interpretability.\n",
    "\n",
    "**Class Imbalance:**\n",
    "   - the dataset is was found to imbalanced and the performance skewed towards the majority class.\n",
    "   - Solution: Used XGBoost Algorithm that helped improve class 1 recall while maintaing a good ROC-AUC score.\n",
    "\n",
    "**Model Complexity:**\n",
    "   - Gradient boosting models are more computationally intensive though they produce good results\n"
   ]
  },
  {
   "cell_type": "markdown",
   "id": "8c9def74",
   "metadata": {},
   "source": [
    "### Conclusion\n",
    "\n",
    "**Appropriate model to use and deploy would be the XGBoost that performed better than the rest in all parameters**"
   ]
  },
  {
   "cell_type": "code",
   "execution_count": null,
   "id": "9502a3f1",
   "metadata": {},
   "outputs": [],
   "source": []
  }
 ],
 "metadata": {
  "kernelspec": {
   "display_name": "Python 3 (ipykernel)",
   "language": "python",
   "name": "python3"
  },
  "language_info": {
   "codemirror_mode": {
    "name": "ipython",
    "version": 3
   },
   "file_extension": ".py",
   "mimetype": "text/x-python",
   "name": "python",
   "nbconvert_exporter": "python",
   "pygments_lexer": "ipython3",
   "version": "3.10.9"
  }
 },
 "nbformat": 4,
 "nbformat_minor": 5
}
